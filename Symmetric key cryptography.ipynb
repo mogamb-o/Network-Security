{
 "cells": [
  {
   "cell_type": "markdown",
   "metadata": {},
   "source": [
    "# Encryption "
   ]
  },
  {
   "cell_type": "code",
   "execution_count": 21,
   "metadata": {},
   "outputs": [],
   "source": [
    "message = 'Guys beware! Enemies ahead are hidden. They are looking for us'"
   ]
  },
  {
   "cell_type": "code",
   "execution_count": 22,
   "metadata": {},
   "outputs": [],
   "source": [
    "def encrypt(msg,key):\n",
    "    encrypted_message = \"\" #string\n",
    "    \n",
    "    for text in msg: #each character gets encrypted seprately\n",
    "        \n",
    "        text_bin = ord(text) #ord() is used for Unicode/ASCII representation, finding ASCII representation of every char of message \n",
    "        text_encrypted = text_bin ^ key # Preform XOR between message and key\n",
    "        text_encrypted = chr(text_encrypted) #chr() is used for char representation\n",
    "        \n",
    "        encrypted_message += text_encrypted # Appending 'text_encrypted' into 'encrypted_message' String  \n",
    "        \n",
    "    return encrypted_message"
   ]
  },
  {
   "cell_type": "markdown",
   "metadata": {},
   "source": [
    "# Private key generation"
   ]
  },
  {
   "cell_type": "code",
   "execution_count": 23,
   "metadata": {},
   "outputs": [],
   "source": [
    "key = 240 \n",
    "cypher_text = encrypt(message, key)"
   ]
  },
  {
   "cell_type": "code",
   "execution_count": 24,
   "metadata": {},
   "outputs": [
    {
     "name": "stdout",
     "output_type": "stream",
     "text": [
      "·",
      "ÐÑÐµÐÐÐÞÐ¤ÐÐÐÐ",
      "\n"
     ]
    }
   ],
   "source": [
    "print(cypher_text) #printing cipher text"
   ]
  },
  {
   "cell_type": "markdown",
   "metadata": {},
   "source": [
    "# Decryption"
   ]
  },
  {
   "cell_type": "code",
   "execution_count": 25,
   "metadata": {},
   "outputs": [],
   "source": [
    "def decrypt(msg, key):\n",
    "    decrypted_message = \"\"   #string\n",
    "    \n",
    "    for cipher in msg: #each character gets decrypted seprately\n",
    "            cipher_bin = ord(cipher) #ord() is used for Unicode/ASCII representation, finding ASCII representation of every char of cipher text\n",
    "            cipher_decrypted = cipher_bin ^ key # Preform XOR between cipher text and key\n",
    "            cipher_decrypted = chr(cipher_decrypted) #chr() is used for char representation\n",
    "            \n",
    "            decrypted_message += cipher_decrypted # Appending 'cipher_encrypted' into 'encrypted_message' String \n",
    "            \n",
    "    return decrypted_message"
   ]
  },
  {
   "cell_type": "code",
   "execution_count": 26,
   "metadata": {},
   "outputs": [],
   "source": [
    "decrypted = decrypt(cypher_text, key)"
   ]
  },
  {
   "cell_type": "code",
   "execution_count": 27,
   "metadata": {},
   "outputs": [
    {
     "name": "stdout",
     "output_type": "stream",
     "text": [
      "Guys beware! Enemies ahead are hidden. They are looking for us\n"
     ]
    }
   ],
   "source": [
    "print(decrypted) #Printing plain text"
   ]
  },
  {
   "cell_type": "markdown",
   "metadata": {},
   "source": [
    "# Breaking the key (Brute force)"
   ]
  },
  {
   "cell_type": "code",
   "execution_count": 30,
   "metadata": {},
   "outputs": [
    {
     "name": "stdout",
     "output_type": "stream",
     "text": [
      "Qcoe6tsawds76Sxs{se6w~swr6wds6~rrsx86B~so6wds6zyy}xq6pyd6ce\n",
      "Pbnd7ur`ver67Ryrz~rd7vrvs7ver7~ssry97Crn7ver7{xx|~yp7qxe7bd\n",
      "_mak8z}oyj}98]v}uq}k8yp}y|8yj}8pq||}v68Lp}a8yj}8twwsqv8~wj8mk\n",
      "^l`j9{|nxk|89\\w|tp|j9xq|x}9xk|9qp}}|w79Mq|`9xk|9uvvrpw~9vk9lj\n",
      "]oci:xm{h;:_twsi:{r{~:{h:rs~~t4:Nrc:{h:vuuqst}:|uh:oi\n",
      "\\nbh;y~lzi~:;^u~vr~h;zs~z;zi~;sr~u5;Os~b;zi~;wttpru|;}ti;nh\n",
      "[ieo<~yk}ny=<Yryquyo<}ty}x<}ny<tuxxyr2<Htye<}ny<psswur{<zsn<io\n",
      "Zhdn=xj|ox<=Xsxptxn=|ux|y=|ox=utyyxs3=Iuxd=|ox=qrrvtsz={ro=hn\n",
      "Ykgm>|{il{?>[p{sw{m>v{z>l{>vwzz{p0>Jv{g>l{>rqquwpy>xql>km\n",
      "Xjfl?}zh~mz>?Zqzrvzl?~wz~{?~mz?wv{{zq1?Kwzf?~mz?spptvqx?ypm?jl\n",
      "Guys beware! Enemies ahead are hidden. They are looking for us\n",
      "Ftxr!cdv`sd !Dodlhdr!`id`e!`sd!iheedo/!Uidx!`sd!mnnjhof!gns!tr\n",
      "Ew{q\"`gucpg#\"Glgokgq\"cjgcf\"cpg\"jkffgl,\"Vjg{\"cpg\"nmmikle\"dmp\"wq\n",
      "Dvzp#aftbqf\"#Fmfnjfp#bkfbg#bqf#kjggfm-#Wkfz#bqf#ollhjmd#elq#vp\n",
      "Cq}w$faseva%$Ajaimaw$elae`$eva$lm``aj*$Pla}$eva$hkkomjc$bkv$qw\n",
      "Bp|v%g`rdw`$%@k`hl`v%dm`da%dw`%mlaa`k+%Qm`|%dw`%ijjnlkb%cjw%pv\n",
      "Asu&dcqgtc'&Chckocu&gncgb&gtc&nobbch(&Rnc&gtc&jiimoha&`it&su\n",
      "@r~t'ebpfub&'Bibjnbt'fobfc'fub'onccbi)'Sob~'fub'khhlni`'ahu'rt\n",
      "O}q{(jmizm)(Mfmeam{(i`mil(izm(`allmf&(\\`mq(izm(dggcafo(ngz(}{\n",
      "N|pz)kl~h{l()Lgld`lz)halhm)h{l)a`mmlg')]alp)h{l)effb`gn)of{)|z\n"
     ]
    }
   ],
   "source": [
    "for key in range(230, 250):\n",
    "    print(decrypt(cypher_text, key))"
   ]
  }
 ],
 "metadata": {
  "kernelspec": {
   "display_name": "Python 3",
   "language": "python",
   "name": "python3"
  },
  "language_info": {
   "codemirror_mode": {
    "name": "ipython",
    "version": 3
   },
   "file_extension": ".py",
   "mimetype": "text/x-python",
   "name": "python",
   "nbconvert_exporter": "python",
   "pygments_lexer": "ipython3",
   "version": "3.8.3"
  }
 },
 "nbformat": 4,
 "nbformat_minor": 4
}
